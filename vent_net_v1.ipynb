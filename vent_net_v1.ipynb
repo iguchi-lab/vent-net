{
  "nbformat": 4,
  "nbformat_minor": 0,
  "metadata": {
    "colab": {
      "name": "vent-net_v1.ipynb",
      "provenance": [],
      "collapsed_sections": [],
      "toc_visible": true,
      "include_colab_link": true
    },
    "kernelspec": {
      "name": "python3",
      "display_name": "Python 3"
    }
  },
  "cells": [
    {
      "cell_type": "markdown",
      "metadata": {
        "id": "view-in-github",
        "colab_type": "text"
      },
      "source": [
        "<a href=\"https://colab.research.google.com/github/iguchi-lab/vent-net/blob/master/vent_net_v1.ipynb\" target=\"_parent\"><img src=\"https://colab.research.google.com/assets/colab-badge.svg\" alt=\"Open In Colab\"/></a>"
      ]
    },
    {
      "cell_type": "markdown",
      "metadata": {
        "id": "U7dxmp3LPILw",
        "colab_type": "text"
      },
      "source": [
        "# 計算の概要"
      ]
    },
    {
      "cell_type": "markdown",
      "metadata": {
        "id": "Sn1euzw6_g8m",
        "colab_type": "text"
      },
      "source": [
        "## 節点iの風量収支\n"
      ]
    },
    {
      "cell_type": "markdown",
      "metadata": {
        "id": "F6S9CBClEFsx",
        "colab_type": "text"
      },
      "source": [
        "$$\n",
        "    f_i(p_1, p_2, \\cdots,p_n) = 0\n",
        "$$"
      ]
    },
    {
      "cell_type": "markdown",
      "metadata": {
        "id": "Eap012G4CS12",
        "colab_type": "text"
      },
      "source": [
        "## 節点の圧力修正式"
      ]
    },
    {
      "cell_type": "markdown",
      "metadata": {
        "id": "rM65rmpuAJDT",
        "colab_type": "text"
      },
      "source": [
        "$$\n",
        "     \\begin{bmatrix}\n",
        "        f_1(p_1, p_2, \\cdots,p_n)\\\\\n",
        "        f_2(p_1, p_2, \\cdots,p_n)\\\\\n",
        "        \\vdots\\\\\n",
        "        f_3(p_1, p_2, \\cdots,p_n)\\\\\n",
        "    \\end{bmatrix}+\n",
        "    \\begin{bmatrix}\n",
        "        \\frac{\\partial f_1}{\\partial p_1} & \\frac{\\partial f_1}{\\partial p_2} & \\cdots & \\frac{\\partial f_1}{\\partial p_n}\\\\\n",
        "        \\frac{\\partial f_2}{\\partial p_1}& \\frac{\\partial f_2}{\\partial p_2} & \\cdots & \\frac{\\partial f_2}{\\partial p_n}\\\\\n",
        "        \\vdots & \\vdots & \\ddots & \\vdots\\\\\n",
        "        \\frac{\\partial f_n}{\\partial p_1}& \\frac{\\partial f_n}{\\partial p_2} & \\cdots & \\frac{\\partial f_n}{\\partial p_n}\\\\\n",
        "    \\end{bmatrix}\n",
        "    \\begin{bmatrix}\n",
        "        \\Delta p_1\\\\\n",
        "        \\Delta p_2\\\\\n",
        "        \\vdots\\\\\n",
        "        \\Delta p_n\\\\\n",
        "    \\end{bmatrix}=0\\\\\n",
        "    -\\boldsymbol b + \\boldsymbol A\\boldsymbol x = 0\n",
        "$$"
      ]
    },
    {
      "cell_type": "markdown",
      "metadata": {
        "id": "F6n-ZW0KCjTK",
        "colab_type": "text"
      },
      "source": [
        "## 式の展開"
      ]
    },
    {
      "cell_type": "markdown",
      "metadata": {
        "id": "tqihHk6LVN4j",
        "colab_type": "text"
      },
      "source": [
        "$$\n",
        "    \\boldsymbol Ax = \\boldsymbol b\n",
        "    \\quad\\quad\n",
        "    (\\boldsymbol D + \\boldsymbol L + \\boldsymbol U)\\boldsymbol x = \\boldsymbol b\\\\\n",
        "$$"
      ]
    },
    {
      "cell_type": "markdown",
      "metadata": {
        "id": "1Px4gf39e_hs",
        "colab_type": "text"
      },
      "source": [
        "$$\n",
        "    \\begin{pmatrix}\n",
        "        a_{11} & a_{12} & a_{13}\\\\\n",
        "        a_{21} & a_{22} & a_{23}\\\\\n",
        "        a_{31} & a_{32} & a_{33}\\\\\n",
        "    \\end{pmatrix}\n",
        "    \\begin{pmatrix}\n",
        "        x_1\\\\\n",
        "        x_2\\\\\n",
        "        x_3\\\\\n",
        "    \\end{pmatrix}=\n",
        "    \\begin{pmatrix}\n",
        "        b_1\\\\\n",
        "        b_2\\\\\n",
        "        b_3\\\\\n",
        "    \\end{pmatrix}\n",
        "    \\\\\n",
        "    \\Biggl\\{\\begin{pmatrix}\n",
        "        a_{11} & 0 & 0\\\\\n",
        "        0 & a_{22} & 0\\\\\n",
        "        0 & 0 & a_{33}\\\\\n",
        "    \\end{pmatrix}+\n",
        "    \\begin{pmatrix}\n",
        "        0 & 0 & 0\\\\\n",
        "        a_{21} & 0 & 0\\\\\n",
        "        a_{31} & a_{32} & 0\\\\\n",
        "    \\end{pmatrix}+\n",
        "    \\begin{pmatrix}\n",
        "        0 & a_{12} & a_{13}\\\\\n",
        "        0 & 0 & a_{23}\\\\\n",
        "        0 & 0 & 0\\\\\n",
        "    \\end{pmatrix}\\Biggr\\}\n",
        "    \\begin{pmatrix}\n",
        "        x_1\\\\\n",
        "        x_2\\\\\n",
        "        x_3\\\\\n",
        "    \\end{pmatrix}=\n",
        "    \\begin{pmatrix}\n",
        "        b_1\\\\\n",
        "        b_2\\\\\n",
        "        b_3\\\\\n",
        "    \\end{pmatrix}\\\\\n",
        "$$"
      ]
    },
    {
      "cell_type": "markdown",
      "metadata": {
        "id": "jQO3sAmYDUfC",
        "colab_type": "text"
      },
      "source": [
        "$$\n",
        "    a_{11}x_1 + a_{12}x_2 + a_{13}x_3 = b_1\\\\\n",
        "    a_{21}x_1 + a_{22}x_2 + a_{23}x_3 = b_2\\\\\n",
        "    a_{31}x_1 + a_{32}x_2 + a_{33}x_3 = b_3\\\\\n",
        "$$"
      ]
    },
    {
      "cell_type": "markdown",
      "metadata": {
        "id": "cUmosMoHDdG7",
        "colab_type": "text"
      },
      "source": [
        "## 反復法への変換"
      ]
    },
    {
      "cell_type": "markdown",
      "metadata": {
        "id": "A04gaVBktOy7",
        "colab_type": "text"
      },
      "source": [
        "$$\n",
        "    \\boldsymbol D\\boldsymbol x^{(k+1)} = \\boldsymbol b-(\\boldsymbol L + \\boldsymbol U)\\boldsymbol x^{(k)} \n",
        "$$"
      ]
    },
    {
      "cell_type": "markdown",
      "metadata": {
        "id": "sWfxOoxDW1jI",
        "colab_type": "text"
      },
      "source": [
        "$$\n",
        "    a_{11}x_1^{(k+1)} = b_1 - (a_{12}x_2^{(k)} + a_{13}x_3^{(k)})\\\\\n",
        "    a_{22}x_2^{(k+1)} = b_2 - (a_{21}x_1^{(k)} + a_{23}x_3^{(k)})\\\\\n",
        "    a_{33}x_3^{(k+1)} = b_3 - (a_{31}x_1^{(k)} + a_{32}x_2^{(k)})\\\\\n",
        "$$"
      ]
    },
    {
      "cell_type": "markdown",
      "metadata": {
        "id": "ohonumJWEqPw",
        "colab_type": "text"
      },
      "source": [
        "## ヤコビ法"
      ]
    },
    {
      "cell_type": "markdown",
      "metadata": {
        "id": "6R4TDK776ryz",
        "colab_type": "text"
      },
      "source": [
        "$$\n",
        "    \\boldsymbol x^{(k+1)} = \\boldsymbol D^{-1}\\bigl\\{\\boldsymbol b-(\\boldsymbol L + \\boldsymbol U)\\boldsymbol x^{(k)}\\bigr\\}\\\\\n",
        "$$"
      ]
    },
    {
      "cell_type": "markdown",
      "metadata": {
        "id": "LKVu3NwvEeam",
        "colab_type": "text"
      },
      "source": [
        "$$\n",
        "    x_1^{(k+1)} = a_{11}^{-1}\\bigl\\{b_1 - (a_{12}x_2^{(k)} + a_{13}x_3^{(k)})\\bigr\\}\\\\\n",
        "    x_2^{(k+1)} = a_{22}^{-1}\\bigl\\{b_1 - (a_{21}x_1^{(k)} + a_{23}x_3^{(k)})\\bigr\\}\\\\\n",
        "    x_3^{(k+1)} = a_{33}^{-1}\\bigl\\{b_1 - (a_{31}x_1^{(k)} + a_{32}x_2^{(k)})\\bigr\\}\\\\\n",
        "$$"
      ]
    },
    {
      "cell_type": "markdown",
      "metadata": {
        "id": "AI9Nqjj4Evn-",
        "colab_type": "text"
      },
      "source": [
        "## ガウス・ザイデル法"
      ]
    },
    {
      "cell_type": "markdown",
      "metadata": {
        "id": "pI5Z_ro40NjG",
        "colab_type": "text"
      },
      "source": [
        "$$\n",
        "    \\boldsymbol x^{(k+1)} = \\boldsymbol D^{-1}\\bigl\\{\\boldsymbol b-\\boldsymbol L\\boldsymbol x^{(k+1)} - \\boldsymbol U\\boldsymbol x^{(k)}\\bigr\\}\\\\\n",
        "$$"
      ]
    },
    {
      "cell_type": "markdown",
      "metadata": {
        "id": "1097sHL-EzPi",
        "colab_type": "text"
      },
      "source": [
        "$$\n",
        "    x_1^{(k+1)} = a_{11}^{-1}\\bigl\\{b_1 - (a_{12}x_2^{(k)} + a_{13}x_3^{(k)})\\bigr\\}\\\\\n",
        "    x_2^{(k+1)} = a_{22}^{-1}\\bigl\\{b_1 - (a_{21}x_1^{(k+1)} + a_{23}x_3^{(k)})\\bigr\\}\\\\\n",
        "    x_3^{(k+1)} = a_{33}^{-1}\\bigl\\{b_1 - (a_{31}x_1^{(k+1)} + a_{32}x_2^{(k+1)})\\bigr\\}\\\\\n",
        "$$"
      ]
    },
    {
      "cell_type": "markdown",
      "metadata": {
        "id": "Vv8DWeTzFEiG",
        "colab_type": "text"
      },
      "source": [
        "## SOR法"
      ]
    },
    {
      "cell_type": "markdown",
      "metadata": {
        "id": "4-7AEeOr1Hfp",
        "colab_type": "text"
      },
      "source": [
        "$$\n",
        "    \\boldsymbol \\xi^{(k+1)} = \\boldsymbol D^{-1}\\bigl\\{\\boldsymbol b-\\boldsymbol L\\boldsymbol x^{(k+1)} - \\boldsymbol U\\boldsymbol x^{(k)}\\bigr\\}\\\\\n",
        "    \\boldsymbol x^{(k+1)}=\\boldsymbol x^{(k)}+\\omega(\\boldsymbol \\xi^{(k+1)}-\\boldsymbol x^{(k)})\n",
        "$$"
      ]
    },
    {
      "cell_type": "markdown",
      "metadata": {
        "id": "M_rAi-7p_gxV",
        "colab_type": "text"
      },
      "source": [
        "$$\n",
        "    \\boldsymbol x^{(k+1)}=\\boldsymbol x^{(k)}+\\omega\\bigl[\\boldsymbol D^{-1}\\bigl\\{\\boldsymbol b-\\boldsymbol L\\boldsymbol x^{(k+1)} - \\boldsymbol U\\boldsymbol x^{(k)}\\bigr\\}-\\boldsymbol x^{(k)}\\bigr]\\\\\n",
        "    (\\boldsymbol D+\\omega \\boldsymbol L)\\boldsymbol x^{(k+1)} = \\{(1-\\omega)\\boldsymbol D\\boldsymbol - \\omega\\boldsymbol U\\}x^{(k)}+\\omega\\boldsymbol b\\\\\n",
        "    \\boldsymbol x^{(k+1)} = (\\boldsymbol D + \\omega\\boldsymbol L)^{-1}\\{(1-\\omega)\\boldsymbol D\\boldsymbol - \\omega\\boldsymbol U\\}x^{(k)}+ (\\boldsymbol D + \\omega\\boldsymbol L)^{-1}\\omega\\boldsymbol b\n",
        "$$"
      ]
    },
    {
      "cell_type": "markdown",
      "metadata": {
        "id": "bnDUmP4kPdpV",
        "colab_type": "text"
      },
      "source": [
        "# 計算プログラム"
      ]
    },
    {
      "cell_type": "markdown",
      "metadata": {
        "id": "evk72rzo-pbw",
        "colab_type": "text"
      },
      "source": [
        "## 必要なライブラリのインポート"
      ]
    },
    {
      "cell_type": "code",
      "metadata": {
        "id": "4vgG4TX9L4I-",
        "colab_type": "code",
        "colab": {}
      },
      "source": [
        "import math                                                                             #数学の計算\n",
        "import numpy as np                                                                      #行列"
      ],
      "execution_count": null,
      "outputs": []
    },
    {
      "cell_type": "markdown",
      "metadata": {
        "id": "VBvntHZ9Pj63",
        "colab_type": "text"
      },
      "source": [
        "## 空気密度の計算"
      ]
    },
    {
      "cell_type": "code",
      "metadata": {
        "id": "Wp1sD4EWjEV9",
        "colab_type": "code",
        "colab": {}
      },
      "source": [
        "def get_rho(sita):\t\t\t\t\t\t\t\t                                        #sitaを入力すると空気の密度rhoを返す\n",
        "    return(353.25 / (sita + 273.15))"
      ],
      "execution_count": null,
      "outputs": []
    },
    {
      "cell_type": "markdown",
      "metadata": {
        "id": "RAItUIEWPtYh",
        "colab_type": "text"
      },
      "source": [
        "## 物理・計算定数"
      ]
    },
    {
      "cell_type": "code",
      "metadata": {
        "id": "HQfp31TUN_IQ",
        "colab_type": "code",
        "colab": {}
      },
      "source": [
        "G = 9.81                                                                                #重力加速度\n",
        "Rho0 = get_rho(20)                                                                      #空気の密度\n",
        "\n",
        "Step_P = 1e-6                                                                           #圧力変化の差分\n",
        "COF = 1.0                                                                               #学習係数α\n",
        "Max_ITR = 200                                                                           #最大繰り返し回数\n",
        "Min_ERR = 0.001                                                                         #最小誤差"
      ],
      "execution_count": null,
      "outputs": []
    },
    {
      "cell_type": "markdown",
      "metadata": {
        "id": "u69YxJKnPHCK",
        "colab_type": "text"
      },
      "source": [
        "## 単純開口の風量の計算式"
      ]
    },
    {
      "cell_type": "markdown",
      "metadata": {
        "id": "duOrPz5qMD3c",
        "colab_type": "text"
      },
      "source": [
        "$$\n",
        "    Q = \\alpha A\\sqrt{\\frac{2}{\\rho}\\cdot\\Delta P}\n",
        "$$"
      ]
    },
    {
      "cell_type": "code",
      "metadata": {
        "id": "f9OpZXCePTOl",
        "colab_type": "code",
        "colab": {}
      },
      "source": [
        "def Simple_Opening_Q(nt, dp):                                                           #単純開口の風量を返す関数　α、Ａ，Δpから風量を計算\n",
        "    rho_0 = get_rho(room[nt[0]][1])\n",
        "    rho_1 = get_rho(room[nt[1]][1])\n",
        "    dp = dp - (rho_0 - rho_1) * G * nt[5] + nt[6]                                       #高さと外部圧力による補正\n",
        "    return(nt[3] * nt[4] * np.sign(dp) * math.sqrt(abs(2 * dp / Rho0)))"
      ],
      "execution_count": null,
      "outputs": []
    },
    {
      "cell_type": "markdown",
      "metadata": {
        "id": "LYpeWvGzP9QX",
        "colab_type": "text"
      },
      "source": [
        "## 送風ファンの風量計算式"
      ]
    },
    {
      "cell_type": "markdown",
      "metadata": {
        "id": "Hbg7eWIrPKPm",
        "colab_type": "text"
      },
      "source": [
        "![image.png](data:image/png;base64,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)"
      ]
    },
    {
      "cell_type": "code",
      "metadata": {
        "id": "tYiJN-1aPSP4",
        "colab_type": "code",
        "colab": {}
      },
      "source": [
        "def Fan_Q(nt, dp):                                                                      #送風ファンの風量を返す関数　ノッチとΔp（静圧）から風量を計算\n",
        "    rho_0 = get_rho(room[nt[0]][1])\n",
        "    rho_1 = get_rho(room[nt[1]][1])\n",
        "    dp = dp - (rho_0 - rho_1) * G * nt[4] + nt[5]                                       #高さと外部圧力による補正\n",
        "    if (nt[3] == 'L') & (dp < 90):                                                      #ノッチLの場合\n",
        "        return(100 / 3600)\n",
        "    elif (nt[3] == 'M') & (dp < 80):                                                    #ノッチMの場合\n",
        "        return(200 / 3600)\n",
        "    else:                                                                               #それ以外、ノッチLの場合\n",
        "        return(max(min(- dp * (390 / 110) + 390, 0), 390) / 3600)"
      ],
      "execution_count": null,
      "outputs": []
    },
    {
      "cell_type": "markdown",
      "metadata": {
        "id": "7AAjbREqPxom",
        "colab_type": "text"
      },
      "source": [
        "## 入力"
      ]
    },
    {
      "cell_type": "code",
      "metadata": {
        "id": "gWvDW29BcS0H",
        "colab_type": "code",
        "colab": {}
      },
      "source": [
        "#室の定義　　室名、　温度[℃]\n",
        "room = [['床上',   20.0],                                                               \n",
        "        ['床下1',  28.4],\n",
        "        ['床下2',  27.8], \n",
        "        ['床下3',  26.0],\n",
        "        ['床下4',  27.4],\n",
        "        ['床下5',  26.3],\n",
        "        ['床下6',  27.3],\n",
        "        ['床下7',  26.0],\n",
        "        ['床下8',  27.3],\n",
        "        ['床下9',  25.0],\n",
        "        ['床下10', 24.4],\n",
        "        ['床下11', 24.4],\n",
        "        ['床下12', 22.9]]\n",
        "\n",
        "#換気回路の定義（単純開口）　室番号1、　室番号2、　'simple'、　α、　Ａ、　高さ、　外力\n",
        "#換気経路の定義（送風ファン）室番号1、　室番号2、　'fan'、　　ノッチ、　高さ、　外力\n",
        "\n",
        "network = [[0,  2,  'simple', 1,    0.035,      0, 0],                                  \n",
        "           [0,  2,  'simple', 1,    0.035,      0, 0],\n",
        "           [0,  3,  'simple', 1,    0.035,      0, 0],\n",
        "           [0,  4,  'simple', 1,    0.035,      0, 0],\n",
        "           [0,  5,  'simple', 1,    0.035,      0, 0],\n",
        "           [0,  6,  'simple', 1,    0.035,      0, 0],\n",
        "           [0,  8,  'simple', 1,    0.035,      0, 0],\n",
        "           [0, 10,  'simple', 1,    0.035,      0, 0],\n",
        "           [0, 11,  'simple', 1,    0.035,      0, 0],\n",
        "           [0, 12,  'simple', 1,    0.035,      0, 0],\n",
        "           [1,  2,  'simple', 0.65, 0.6 * 0.35, 0, 0],\n",
        "           [1,  3,  'simple', 0.65, 0.6 * 0.35, 0, 0],\n",
        "           [1, 10,  'simple', 0.65, 0.6 * 0.35, 0, 0],\n",
        "           [2,  1,  'simple', 0.65, 0.6 * 0.35, 0, 0],\n",
        "           [2,  4,  'simple', 0.65, 0.6 * 0.35, 0, 0],\n",
        "           [2, 10,  'simple', 0.65, 0.6 * 0.35, 0, 0],\n",
        "           [3,  1,  'simple', 0.65, 0.6 * 0.35, 0, 0],\n",
        "           [3,  4,  'simple', 0.65, 0.6 * 0.35, 0, 0],\n",
        "           [3,  5,  'simple', 0.65, 0.6 * 0.35, 0, 0],\n",
        "           [4,  6,  'simple', 0.65, 0.6 * 0.35, 0, 0],\n",
        "           [5,  3,  'simple', 0.65, 0.6 * 0.35, 0, 0],\n",
        "           [5,  4,  'simple', 0.65, 0.6 * 0.35, 0, 0],\n",
        "           [6,  4,  'simple', 0.65, 0.6 * 0.35, 0, 0],\n",
        "           [7,  2,  'simple', 0.65, 0.6 * 0.35, 0, 0],\n",
        "           [7,  8,  'simple', 0.65, 0.6 * 0.35, 0, 0],\n",
        "           [7,  9,  'simple', 0.65, 0.6 * 0.35, 0, 0],\n",
        "           [8,  7,  'simple', 0.65, 0.6 * 0.35, 0, 0],\n",
        "           [9,  7,  'simple', 0.65, 0.6 * 0.35, 0, 0],\n",
        "           [9,  10, 'simple', 0.65, 0.6 * 0.35, 0, 0],\n",
        "           [9,  11, 'simple', 0.65, 0.6 * 0.35, 0, 0],\n",
        "           [9,  12, 'simple', 0.65, 0.6 * 0.35, 0, 0],\n",
        "           [10,  1, 'simple', 0.65, 0.6 * 0.35, 0, 0],\n",
        "           [10,  2, 'simple', 0.65, 0.6 * 0.35, 0, 0],\n",
        "           [10,  9, 'simple', 0.65, 0.6 * 0.35, 0, 0],\n",
        "           [10, 12, 'simple', 0.65, 0.6 * 0.35, 0, 0],\n",
        "           [11,  9, 'simple', 0.65, 0.6 * 0.35, 0, 0],\n",
        "           [12,  9, 'simple', 0.65, 0.6 * 0.35, 0, 0],\n",
        "           [12, 10, 'simple', 0.65, 0.6 * 0.35, 0, 0],\n",
        "           [0,   1, 'fan', 'M', 0, 0],\n",
        "           [0,   1, 'fan', 'M', 0, 0],\n",
        "           [0,   5, 'fan', 'M', 0, 0],\n",
        "           [0,   5, 'fan', 'M', 0, 0],\n",
        "           [0,   6, 'fan', 'M', 0, 0],\n",
        "           [0,   6, 'fan', 'M', 0, 0],\n",
        "           [0,   8, 'fan', 'M', 0, 0],\n",
        "           [0,   8, 'fan', 'M', 0, 0]]"
      ],
      "execution_count": null,
      "outputs": []
    },
    {
      "cell_type": "markdown",
      "metadata": {
        "id": "sczy-Kv8QjjP",
        "colab_type": "text"
      },
      "source": [
        "## 各節点の風量収支の計算"
      ]
    },
    {
      "cell_type": "code",
      "metadata": {
        "id": "DtbIl-UFUr8L",
        "colab_type": "code",
        "colab": {}
      },
      "source": [
        "def calc_Q_sum(pp):                                                                     #圧力データから各室の風量収支を返す関数\n",
        "    Q_sum = np.zeros(len(room))                                                         #風量収支を初期化 =0\n",
        "    for nt in network:                                                                  #ネットワーク分ループ\n",
        "        dp = pp[nt[0]] - pp[nt[1]]                                                      #室の圧力差を計算\n",
        "        if nt[2] == 'simple':                                                           #単純開口の場合\n",
        "            Q = Simple_Opening_Q(nt, dp)\n",
        "        elif nt[2] == 'fan':                                                            #送風ファンの場合\n",
        "            Q = Fan_Q(nt, dp)\n",
        "        else:                                                                           #それ以外の場合\n",
        "            Q = 0\n",
        "        Q_sum[nt[0]] -= Q                                                               #流出側\n",
        "        Q_sum[nt[1]] += Q                                                               #流入側\n",
        "    return(Q_sum)                                                                       #計算結果を返す"
      ],
      "execution_count": null,
      "outputs": []
    },
    {
      "cell_type": "markdown",
      "metadata": {
        "id": "cyLWQejKQv_S",
        "colab_type": "text"
      },
      "source": [
        "## SOR法による計算"
      ]
    },
    {
      "cell_type": "code",
      "metadata": {
        "id": "NvDySyUI9yPw",
        "colab_type": "code",
        "colab": {}
      },
      "source": [
        "def SOR(A, b, tol):                                                                     #SOR法で連立方程式のを解く\n",
        "    xOld = np.empty_like(b)                                                             #xOldの作成\n",
        "    error = 1e12                                                                        #誤差の初期化（大きな値で初期化）\n",
        "\n",
        "    D = np.diag(np.diag(A))                                                             #行列Aの対角行列\n",
        "    L = np.tril(A, -1)                                                                  #行列Aの下三角行列\n",
        "    U = A - L - D                                                                       #行列Aの上三角行列\n",
        "\n",
        "    T = np.linalg.inv(D + COF * L)                                                      #xn+1の係数計算の逆行列\n",
        "    Lw = np.dot(T, - COF * U + (1 - COF) * D)                                           #xnの係数\n",
        "    c = np.dot(T, COF * b)                                                              #定数項c\n",
        "\n",
        "    while error > tol:                                                                  #公差がtol未満になるまでループ\n",
        "        x = np.dot(Lw, xOld) + c                                                        #漸化式から反復計算\n",
        "        error = np.linalg.norm(x - xOld) / np.linalg.norm(x)                            #公差を計算\n",
        "        xOld = x                                                                        #xOldの更新\n",
        "    return x                                                                            #計算結果を返す"
      ],
      "execution_count": null,
      "outputs": []
    },
    {
      "cell_type": "markdown",
      "metadata": {
        "id": "fp2AFmTkQ1Wd",
        "colab_type": "text"
      },
      "source": [
        "## メインプログラム"
      ]
    },
    {
      "cell_type": "code",
      "metadata": {
        "id": "dp8Ag58AUxNd",
        "colab_type": "code",
        "colab": {
          "base_uri": "https://localhost:8080/",
          "height": 1000
        },
        "outputId": "cdc014ed-073e-43c4-d620-172f5f6efa7a"
      },
      "source": [
        "p = np.zeros(len(room))                                                                 #圧力の初期化 =0\n",
        "a = np.zeros((len(room), len(room)))                                                    #dF / dp の行列\n",
        "\n",
        "for itr1 in range(Max_ITR):                                                             #メインループ\n",
        "    Q_sum0 = calc_Q_sum(p)                                                              #各室の風量収支を計算\n",
        "    print(itr1, np.linalg.norm(Q_sum0))  \n",
        "\n",
        "    if np.linalg.norm(Q_sum0) < Min_ERR: break                                          #風量収支の平均２乗誤差が最小誤差以下であればループを抜ける（終了）\n",
        "\n",
        "    for j in range(len(room)):                                                          #室の数だけループ\n",
        "        temp_p = p.copy()                                                               #圧力をコピー\n",
        "        temp_p[j] += Step_P                                                             #圧力を変化\n",
        "        a[j] = (calc_Q_sum(temp_p) - Q_sum0).T / Step_P                                 #dF / dp を計算\n",
        "\n",
        "    p += SOR(a, -Q_sum0, 1e-5)                                                          #SOR法で圧力を更新\n",
        "\n",
        "print('finish calc!')\n",
        "\n",
        "print('\\nP [Pa]:')\n",
        "for r, rm in enumerate(room):                                                           #各室圧力の出力\n",
        "    print(r, rm[0], p[r] - p[0])\n",
        "\n",
        "print('\\nQ [m3/h]:')\n",
        "for i, nt in enumerate(network):                                                        #各換気回路風量の出力\n",
        "    dp = p[nt[0]] - p[nt[1]]                                                            #室0を圧力0として計算\n",
        "    if nt[2] == 'simple':\n",
        "        print(i, room[nt[0]][0], '->', room[nt[1]][0], Simple_Opening_Q(nt, dp) * 3600) #単純開口の風量を計算\n",
        "    elif nt[2] == 'fan':\n",
        "        print(i, room[nt[0]][0], '->', room[nt[1]][0], Fan_Q(nt, dp) * 3600)            #送風ファンの風量を計算"
      ],
      "execution_count": null,
      "outputs": [
        {
          "output_type": "stream",
          "text": [
            "0 0.49690399499995336\n",
            "1 0.47790053198662386\n",
            "2 0.36497143319541536\n",
            "3 0.16183404990414324\n",
            "4 0.027847377211909802\n",
            "5 0.0008215834342247213\n",
            "finish calc!\n",
            "\n",
            "P [Pa]:\n",
            "0 床上 0.0\n",
            "1 床下1 0.977699208840582\n",
            "2 床下2 0.94961389275984\n",
            "3 床下3 0.9786175986489448\n",
            "4 床下4 0.9817366297207218\n",
            "5 床下5 0.9953618527006247\n",
            "6 床下6 1.0164773838220746\n",
            "7 床下7 0.9615292457284986\n",
            "8 床下8 0.996741277795888\n",
            "9 床下9 0.9438144697327447\n",
            "10 床下10 0.9458263297837126\n",
            "11 床下11 0.9285019540969294\n",
            "12 床下12 0.9408753381867266\n",
            "\n",
            "Q [m3/h]:\n",
            "0 床上 -> 床下2 -158.18413966036013\n",
            "1 床上 -> 床下2 -158.18413966036013\n",
            "2 床上 -> 床下3 -160.58165061049212\n",
            "3 床上 -> 床下4 -160.8373483984013\n",
            "4 床上 -> 床下5 -161.94960874497218\n",
            "5 床上 -> 床下6 -163.65838721069548\n",
            "6 床上 -> 床下8 -162.06178905833426\n",
            "7 床上 -> 床下10 -157.86836342538857\n",
            "8 床上 -> 床下11 -156.41587121907065\n",
            "9 床上 -> 床下12 -157.45463500459937\n",
            "10 床下1 -> 床下2 106.09469580693053\n",
            "11 床下1 -> 床下3 -19.18525348881439\n",
            "12 床下1 -> 床下10 113.02243544147206\n",
            "13 床下2 -> 床下1 -106.09469580693053\n",
            "14 床下2 -> 床下4 -113.46457342294839\n",
            "15 床下2 -> 床下10 38.961345392024064\n",
            "16 床下3 -> 床下1 19.18525348881439\n",
            "17 床下3 -> 床下4 -35.356060191379626\n",
            "18 床下3 -> 床下5 -81.91942896811254\n",
            "19 床下4 -> 床下6 -117.9977251145937\n",
            "20 床下5 -> 床下3 81.91942896811254\n",
            "21 床下5 -> 床下4 73.89683247748293\n",
            "22 床下6 -> 床下4 117.9977251145937\n",
            "23 床下7 -> 床下2 69.10468154721255\n",
            "24 床下7 -> 床下8 -118.79538197935592\n",
            "25 床下7 -> 床下9 84.2600759959055\n",
            "26 床下8 -> 床下7 118.79538197935592\n",
            "27 床下9 -> 床下7 -84.2600759959055\n",
            "28 床下9 -> 床下10 -28.39572081031784\n",
            "29 床下9 -> 床下11 78.33886707630616\n",
            "30 床下9 -> 床下12 34.321283927679076\n",
            "31 床下10 -> 床下1 -113.02243544147206\n",
            "32 床下10 -> 床下2 -38.961345392024064\n",
            "33 床下10 -> 床下9 28.39572081031784\n",
            "34 床下10 -> 床下12 44.54511747410573\n",
            "35 床下11 -> 床下9 -78.33886707630616\n",
            "36 床下12 -> 床下9 -34.321283927679076\n",
            "37 床下12 -> 床下10 -44.54511747410573\n",
            "38 床上 -> 床下1 200.0\n",
            "39 床上 -> 床下1 200.0\n",
            "40 床上 -> 床下5 200.0\n",
            "41 床上 -> 床下5 200.0\n",
            "42 床上 -> 床下6 200.0\n",
            "43 床上 -> 床下6 200.0\n",
            "44 床上 -> 床下8 200.0\n",
            "45 床上 -> 床下8 200.0\n"
          ],
          "name": "stdout"
        }
      ]
    },
    {
      "cell_type": "markdown",
      "metadata": {
        "id": "UOVMmGCMULcS",
        "colab_type": "text"
      },
      "source": [
        "# 参考HP:"
      ]
    },
    {
      "cell_type": "markdown",
      "metadata": {
        "id": "VO2SkeM9YRX5",
        "colab_type": "text"
      },
      "source": [
        "http://www.yamamo10.jp/yamamoto/lecture/2006/5E/test_3/html/node4.html\n",
        "\n",
        "\n",
        "http://nkl.cc.u-tokyo.ac.jp/13n/SolverIterative.pdf\n",
        "\n",
        "\n",
        "https://org-technology.com/posts/solving-linear-equations-yacobi.html\n",
        "\n",
        "\n",
        "https://org-technology.com/posts/solving-linear-equations-gauss-seidel.html\n",
        "\n",
        "\n",
        "https://org-technology.com/posts/solving-linear-equations-sor.html\n",
        "\n",
        "\n",
        "https://drive.google.com/file/d/1QbkEMKg1v14Ji_EQdfLMd-IssbZVsg2Q/view?usp=sharing\n",
        "\n",
        "\n",
        "https://qiita.com/PlanetMeron/items/63ac58898541cbe81ada"
      ]
    }
  ]
}